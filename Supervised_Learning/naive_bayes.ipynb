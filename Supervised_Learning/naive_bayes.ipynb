{
 "cells": [
  {
   "cell_type": "code",
   "execution_count": 1,
   "metadata": {},
   "outputs": [
    {
     "name": "stdout",
     "output_type": "stream",
     "text": [
      "              precision  recall  f1-score  support\n",
      "setosa              1.0     1.0       1.0     10.0\n",
      "versicolor          1.0     1.0       1.0      9.0\n",
      "virginica           1.0     1.0       1.0     11.0\n",
      "accuracy            1.0     1.0       1.0      1.0\n",
      "macro avg           1.0     1.0       1.0     30.0\n",
      "weighted avg        1.0     1.0       1.0     30.0\n"
     ]
    }
   ],
   "source": [
    "import numpy as np\n",
    "import pandas as pd\n",
    "from sklearn.datasets import load_iris\n",
    "from sklearn.model_selection import train_test_split\n",
    "from sklearn.naive_bayes import GaussianNB\n",
    "from sklearn.metrics import classification_report\n",
    "\n",
    "# Veri setini yükle\n",
    "iris = load_iris()\n",
    "\n",
    "# Eğitim ve test olarak böl\n",
    "X_train, X_test, y_train, y_test = train_test_split(\n",
    "    iris.data, iris.target, test_size=0.2, random_state=42\n",
    ")\n",
    "\n",
    "# Modeli eğit ve tahmin yap\n",
    "def train_and_predict(X_train, y_train, X_test):\n",
    "    model = GaussianNB()\n",
    "    model.fit(X_train, y_train)\n",
    "    return model.predict(X_test)\n",
    "\n",
    "# Tahminleri al\n",
    "y_pred = train_and_predict(X_train, y_train, X_test)\n",
    "\n",
    "# Sonuçları DataFrame formatında göster\n",
    "report = classification_report(y_test, y_pred, target_names=iris.target_names, output_dict=True)\n",
    "df_report = pd.DataFrame(report).T\n",
    "\n",
    "# Çıktıyı ekrana yazdır\n",
    "print(df_report)\n"
   ]
  }
 ],
 "metadata": {
  "kernelspec": {
   "display_name": "myenv",
   "language": "python",
   "name": "python3"
  },
  "language_info": {
   "codemirror_mode": {
    "name": "ipython",
    "version": 3
   },
   "file_extension": ".py",
   "mimetype": "text/x-python",
   "name": "python",
   "nbconvert_exporter": "python",
   "pygments_lexer": "ipython3",
   "version": "3.13.1"
  }
 },
 "nbformat": 4,
 "nbformat_minor": 2
}
