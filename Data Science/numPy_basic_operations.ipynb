{
  "nbformat": 4,
  "nbformat_minor": 0,
  "metadata": {
    "colab": {
      "provenance": []
    },
    "kernelspec": {
      "name": "python3",
      "display_name": "Python 3"
    },
    "language_info": {
      "name": "python"
    }
  },
  "cells": [
    {
      "cell_type": "markdown",
      "source": [
        "**Numpy**"
      ],
      "metadata": {
        "id": "f63OyDOkpuzz"
      }
    },
    {
      "cell_type": "code",
      "source": [
        "import numpy as np"
      ],
      "metadata": {
        "id": "fXFYn6XDpwrY"
      },
      "execution_count": 1,
      "outputs": []
    },
    {
      "cell_type": "code",
      "source": [
        "# nupy array oluşturma\n",
        "# liste = [1,2,3,4,5,6,7,8,9,10]\n",
        "dizi = np.array([1,2,3,4,5,6,7,8,9,10,11,12,13,14,15])\n",
        "dizi\n"
      ],
      "metadata": {
        "colab": {
          "base_uri": "https://localhost:8080/"
        },
        "id": "yI9M83jTqN-R",
        "outputId": "4bd33598-729d-4c6d-e88b-848b2be10c81"
      },
      "execution_count": null,
      "outputs": [
        {
          "output_type": "execute_result",
          "data": {
            "text/plain": [
              "array([ 1,  2,  3,  4,  5,  6,  7,  8,  9, 10, 11, 12, 13, 14, 15])"
            ]
          },
          "metadata": {},
          "execution_count": 2
        }
      ]
    },
    {
      "cell_type": "code",
      "source": [
        "# array boyutu\n",
        "dizi.shape # (15, ) 15x1 lik vektör"
      ],
      "metadata": {
        "colab": {
          "base_uri": "https://localhost:8080/"
        },
        "id": "c1L_LdZ7qjXF",
        "outputId": "2a0b6444-9092-403f-edf8-aff4ee9a9049"
      },
      "execution_count": null,
      "outputs": [
        {
          "output_type": "execute_result",
          "data": {
            "text/plain": [
              "(15,)"
            ]
          },
          "metadata": {},
          "execution_count": 3
        }
      ]
    },
    {
      "cell_type": "code",
      "source": [
        "# 15x1 lik bir arrayi 3x5 lik bir matrise cevirelim\n",
        "dizi2 = dizi.reshape(3,5)\n",
        "dizi2"
      ],
      "metadata": {
        "colab": {
          "base_uri": "https://localhost:8080/"
        },
        "id": "beBZOyd1qsE4",
        "outputId": "af131ed6-54b6-44d8-9cc2-105aa651c17d"
      },
      "execution_count": null,
      "outputs": [
        {
          "output_type": "execute_result",
          "data": {
            "text/plain": [
              "array([[ 1,  2,  3,  4,  5],\n",
              "       [ 6,  7,  8,  9, 10],\n",
              "       [11, 12, 13, 14, 15]])"
            ]
          },
          "metadata": {},
          "execution_count": 4
        }
      ]
    },
    {
      "cell_type": "code",
      "source": [
        "print(\"shape:\", dizi2.shape)\n",
        "print(\"dimension:\",dizi2.ndim)\n",
        "print(\"size:\",dizi2.size)\n",
        "print(\"type:\",type(dizi2))"
      ],
      "metadata": {
        "colab": {
          "base_uri": "https://localhost:8080/"
        },
        "id": "3wF5atwVrk4Q",
        "outputId": "e959844a-32d1-47a3-f46a-902b0b08dc4b"
      },
      "execution_count": null,
      "outputs": [
        {
          "output_type": "stream",
          "name": "stdout",
          "text": [
            "shape: (3, 5)\n",
            "dimension: 2\n",
            "size: 15\n",
            "type: <class 'numpy.ndarray'>\n"
          ]
        }
      ]
    },
    {
      "cell_type": "code",
      "source": [
        "dizi2D = np.array([[1,2,3,4],[5,6,7,8],[8,9,10,7]])\n",
        "dizi2D"
      ],
      "metadata": {
        "colab": {
          "base_uri": "https://localhost:8080/"
        },
        "id": "qkI_aWRKrsCt",
        "outputId": "5aeb5094-0699-4029-ac30-444edb95a434"
      },
      "execution_count": null,
      "outputs": [
        {
          "output_type": "execute_result",
          "data": {
            "text/plain": [
              "array([[ 1,  2,  3,  4],\n",
              "       [ 5,  6,  7,  8],\n",
              "       [ 8,  9, 10,  7]])"
            ]
          },
          "metadata": {},
          "execution_count": 6
        }
      ]
    },
    {
      "cell_type": "code",
      "source": [
        "# sıfırlardan oluşan bir array\n",
        "sifir_dizi = np.zeros((3,4))\n",
        "sifir_dizi"
      ],
      "metadata": {
        "colab": {
          "base_uri": "https://localhost:8080/"
        },
        "id": "gh1mLVS8sUK3",
        "outputId": "7574ed38-62d6-4a1d-86eb-92f20411ce99"
      },
      "execution_count": null,
      "outputs": [
        {
          "output_type": "execute_result",
          "data": {
            "text/plain": [
              "array([[0., 0., 0., 0.],\n",
              "       [0., 0., 0., 0.],\n",
              "       [0., 0., 0., 0.]])"
            ]
          },
          "metadata": {},
          "execution_count": 7
        }
      ]
    },
    {
      "cell_type": "code",
      "source": [
        "# birlerden oluşan bir array\n",
        "bir_dizi = np.ones((3,4))\n",
        "bir_dizi"
      ],
      "metadata": {
        "colab": {
          "base_uri": "https://localhost:8080/"
        },
        "id": "BkNNfNvFsjFt",
        "outputId": "b766e6f9-6ee3-4b74-f388-1b521c33a75a"
      },
      "execution_count": null,
      "outputs": [
        {
          "output_type": "execute_result",
          "data": {
            "text/plain": [
              "array([[1., 1., 1., 1.],\n",
              "       [1., 1., 1., 1.],\n",
              "       [1., 1., 1., 1.]])"
            ]
          },
          "metadata": {},
          "execution_count": 8
        }
      ]
    },
    {
      "cell_type": "code",
      "source": [
        "# boş  bir array\n",
        "bos_dizi = np.empty((2,4))\n",
        "bos_dizi"
      ],
      "metadata": {
        "colab": {
          "base_uri": "https://localhost:8080/"
        },
        "id": "L0p94AZBspFO",
        "outputId": "0eed642a-821c-49d8-ce36-a3ccc42a83b3"
      },
      "execution_count": null,
      "outputs": [
        {
          "output_type": "execute_result",
          "data": {
            "text/plain": [
              "array([[5.02610095e-310, 0.00000000e+000, 0.00000000e+000,\n",
              "        0.00000000e+000],\n",
              "       [0.00000000e+000, 0.00000000e+000, 0.00000000e+000,\n",
              "        0.00000000e+000]])"
            ]
          },
          "metadata": {},
          "execution_count": 9
        }
      ]
    },
    {
      "cell_type": "code",
      "source": [
        "# arange(x,y, basamak): x den başlar y dahil değil, bsaak kadar artarak ilerler\n",
        "dizi_aralik= np.arange(10,50,5)\n",
        "dizi_aralik"
      ],
      "metadata": {
        "colab": {
          "base_uri": "https://localhost:8080/"
        },
        "id": "S764vrWosxJ8",
        "outputId": "9ea1f7b9-8ecd-42dd-bb6f-ae7ee20a653f"
      },
      "execution_count": null,
      "outputs": [
        {
          "output_type": "execute_result",
          "data": {
            "text/plain": [
              "array([10, 15, 20, 25, 30, 35, 40, 45])"
            ]
          },
          "metadata": {},
          "execution_count": 10
        }
      ]
    },
    {
      "cell_type": "code",
      "source": [
        "# linspace: x ve y dahil, basamak kadar sayiya böler\n",
        "dizi_bosluk = np.linspace(10,50,100)\n",
        "dizi_bosluk"
      ],
      "metadata": {
        "colab": {
          "base_uri": "https://localhost:8080/"
        },
        "id": "EsWj35kVtY5b",
        "outputId": "551b67fa-01d3-4b3f-b2b5-64c334dc8fa0"
      },
      "execution_count": null,
      "outputs": [
        {
          "output_type": "execute_result",
          "data": {
            "text/plain": [
              "array([10.        , 10.4040404 , 10.80808081, 11.21212121, 11.61616162,\n",
              "       12.02020202, 12.42424242, 12.82828283, 13.23232323, 13.63636364,\n",
              "       14.04040404, 14.44444444, 14.84848485, 15.25252525, 15.65656566,\n",
              "       16.06060606, 16.46464646, 16.86868687, 17.27272727, 17.67676768,\n",
              "       18.08080808, 18.48484848, 18.88888889, 19.29292929, 19.6969697 ,\n",
              "       20.1010101 , 20.50505051, 20.90909091, 21.31313131, 21.71717172,\n",
              "       22.12121212, 22.52525253, 22.92929293, 23.33333333, 23.73737374,\n",
              "       24.14141414, 24.54545455, 24.94949495, 25.35353535, 25.75757576,\n",
              "       26.16161616, 26.56565657, 26.96969697, 27.37373737, 27.77777778,\n",
              "       28.18181818, 28.58585859, 28.98989899, 29.39393939, 29.7979798 ,\n",
              "       30.2020202 , 30.60606061, 31.01010101, 31.41414141, 31.81818182,\n",
              "       32.22222222, 32.62626263, 33.03030303, 33.43434343, 33.83838384,\n",
              "       34.24242424, 34.64646465, 35.05050505, 35.45454545, 35.85858586,\n",
              "       36.26262626, 36.66666667, 37.07070707, 37.47474747, 37.87878788,\n",
              "       38.28282828, 38.68686869, 39.09090909, 39.49494949, 39.8989899 ,\n",
              "       40.3030303 , 40.70707071, 41.11111111, 41.51515152, 41.91919192,\n",
              "       42.32323232, 42.72727273, 43.13131313, 43.53535354, 43.93939394,\n",
              "       44.34343434, 44.74747475, 45.15151515, 45.55555556, 45.95959596,\n",
              "       46.36363636, 46.76767677, 47.17171717, 47.57575758, 47.97979798,\n",
              "       48.38383838, 48.78787879, 49.19191919, 49.5959596 , 50.        ])"
            ]
          },
          "metadata": {},
          "execution_count": 11
        }
      ]
    },
    {
      "cell_type": "markdown",
      "source": [
        "**Numpy Temel Operasyonları**"
      ],
      "metadata": {
        "id": "toZefrQa0mek"
      }
    },
    {
      "cell_type": "code",
      "source": [
        "a = np.array([1,2,3,4])\n",
        "b = np.array([5,6,7,8])"
      ],
      "metadata": {
        "id": "f9A_jWmr0sHI"
      },
      "execution_count": null,
      "outputs": []
    },
    {
      "cell_type": "code",
      "source": [
        "print(\"toplama:\", a + b)\n",
        "print(\"çıkarma:\", a - b)"
      ],
      "metadata": {
        "colab": {
          "base_uri": "https://localhost:8080/"
        },
        "id": "ozqkkaV60wv0",
        "outputId": "b5ba3367-bd27-49f7-d207-b046a376c932"
      },
      "execution_count": null,
      "outputs": [
        {
          "output_type": "stream",
          "name": "stdout",
          "text": [
            "toplama: [ 6  8 10 12]\n",
            "çıkarma: [-4 -4 -4 -4]\n"
          ]
        }
      ]
    },
    {
      "cell_type": "code",
      "source": [
        "# filtreleme\n",
        "a = np.array([1,2,3,4])\n",
        "filtre = a < 3\n",
        "filtre\n"
      ],
      "metadata": {
        "colab": {
          "base_uri": "https://localhost:8080/"
        },
        "id": "RixJCAc607zi",
        "outputId": "4bcb99f9-5e40-4166-811e-34e71ec948e8"
      },
      "execution_count": null,
      "outputs": [
        {
          "output_type": "execute_result",
          "data": {
            "text/plain": [
              "array([ True,  True, False, False])"
            ]
          },
          "metadata": {},
          "execution_count": 14
        }
      ]
    },
    {
      "cell_type": "code",
      "source": [
        "# matris çarpimi\n",
        "a = np.array([[1,2,3],[4,5,6]])\n",
        "b = np.array([[1,2],[3,4],[5,6]])\n",
        "c = a.dot(b)\n"
      ],
      "metadata": {
        "id": "UVImjMeZ1MpJ"
      },
      "execution_count": null,
      "outputs": []
    },
    {
      "cell_type": "code",
      "source": [
        "# matrisinin transpose (tersine çevrilmiş) hali\n",
        "a = np.array([[1,2,3],[4,5,6]]) # 2x3\n",
        "b = np.array([[1,2],[3,4],[5,6]]) # 2x3 -> T -> 3x2\n",
        "a.dot(a.T)\n"
      ],
      "metadata": {
        "colab": {
          "base_uri": "https://localhost:8080/"
        },
        "id": "X75Xu9Ca17p5",
        "outputId": "7bdabf2a-d1cc-4037-9b48-37660e1f2c3f"
      },
      "execution_count": null,
      "outputs": [
        {
          "output_type": "execute_result",
          "data": {
            "text/plain": [
              "array([[14, 32],\n",
              "       [32, 77]])"
            ]
          },
          "metadata": {},
          "execution_count": 16
        }
      ]
    },
    {
      "cell_type": "code",
      "source": [
        "a = np.array([[1,2,3],[4,5,6]])\n",
        "print(a.sum())\n",
        "print(a.max())\n",
        "print(a.min())\n",
        "print(a.mean)"
      ],
      "metadata": {
        "colab": {
          "base_uri": "https://localhost:8080/"
        },
        "id": "xrbDBx0k2ILy",
        "outputId": "3ddd8765-50fe-4445-8de1-a4acfe4c6110"
      },
      "execution_count": null,
      "outputs": [
        {
          "output_type": "stream",
          "name": "stdout",
          "text": [
            "21\n",
            "6\n",
            "1\n",
            "<built-in method mean of numpy.ndarray object at 0x7f9bc92635d0>\n"
          ]
        }
      ]
    },
    {
      "cell_type": "code",
      "source": [
        "# satırları kendi arasında toplama\n",
        "a.sum(axis = 0 )"
      ],
      "metadata": {
        "colab": {
          "base_uri": "https://localhost:8080/"
        },
        "id": "YUoQFZcR22Sg",
        "outputId": "2aa8a7c0-ee13-4c16-dc56-4576bbdcc378"
      },
      "execution_count": null,
      "outputs": [
        {
          "output_type": "execute_result",
          "data": {
            "text/plain": [
              "array([5, 7, 9])"
            ]
          },
          "metadata": {},
          "execution_count": 18
        }
      ]
    },
    {
      "cell_type": "code",
      "source": [
        "# sqrt\n",
        "np.sqrt(a)"
      ],
      "metadata": {
        "colab": {
          "base_uri": "https://localhost:8080/"
        },
        "id": "0sJpMvnE251z",
        "outputId": "3c83c92f-96a4-4319-9db0-a9e4f95b411b"
      },
      "execution_count": null,
      "outputs": [
        {
          "output_type": "execute_result",
          "data": {
            "text/plain": [
              "array([[1.        , 1.41421356, 1.73205081],\n",
              "       [2.        , 2.23606798, 2.44948974]])"
            ]
          },
          "metadata": {},
          "execution_count": 19
        }
      ]
    },
    {
      "cell_type": "code",
      "source": [
        "# square\n",
        "np.square(a)"
      ],
      "metadata": {
        "colab": {
          "base_uri": "https://localhost:8080/"
        },
        "id": "fci8sws33Oag",
        "outputId": "cef7dc1b-73c1-45e9-d4f5-22a754aa6d3c"
      },
      "execution_count": null,
      "outputs": [
        {
          "output_type": "execute_result",
          "data": {
            "text/plain": [
              "array([[ 1,  4,  9],\n",
              "       [16, 25, 36]])"
            ]
          },
          "metadata": {},
          "execution_count": 20
        }
      ]
    },
    {
      "cell_type": "code",
      "source": [
        "# rastgele sayi üretme\n",
        "rastgele_dizi = np.random.random((3,3)) # normal dağılıma göre 0 -1 aralığında rastgele değerler\n",
        "rastgele_dizi"
      ],
      "metadata": {
        "colab": {
          "base_uri": "https://localhost:8080/"
        },
        "id": "OjbNiaPa3Xy4",
        "outputId": "6375d914-3da1-47d5-eb93-3baf24833f69"
      },
      "execution_count": null,
      "outputs": [
        {
          "output_type": "execute_result",
          "data": {
            "text/plain": [
              "array([[0.24150922, 0.37633787, 0.44931571],\n",
              "       [0.2806052 , 0.81774412, 0.48733861],\n",
              "       [0.42898928, 0.96789778, 0.23986521]])"
            ]
          },
          "metadata": {},
          "execution_count": 21
        }
      ]
    },
    {
      "cell_type": "code",
      "source": [
        "rastgele_dizi = np.random.normal(0, 1 ,5) # normal dağılıma göre 0 ortalamalı, 1 standart sapmalı değerler\n",
        "rastgele_dizi"
      ],
      "metadata": {
        "colab": {
          "base_uri": "https://localhost:8080/"
        },
        "id": "Y3FnWdvx3tim",
        "outputId": "a09d4d69-0960-465a-c7b5-38320af0469f"
      },
      "execution_count": null,
      "outputs": [
        {
          "output_type": "execute_result",
          "data": {
            "text/plain": [
              "array([-0.04112434, -0.02796109, -0.01404938,  0.87697763,  0.38424422])"
            ]
          },
          "metadata": {},
          "execution_count": 22
        }
      ]
    },
    {
      "cell_type": "markdown",
      "source": [
        "**indexleme ve slicing**"
      ],
      "metadata": {
        "id": "JcHCpQd65i4H"
      }
    },
    {
      "cell_type": "code",
      "source": [
        "dizi = np.array([1,2,3,4,5,6,7])\n",
        "dizi[0]"
      ],
      "metadata": {
        "colab": {
          "base_uri": "https://localhost:8080/"
        },
        "id": "Sd2phCnG5puZ",
        "outputId": "44c5647d-a040-4fdc-ad53-952c9316c6a7"
      },
      "execution_count": null,
      "outputs": [
        {
          "output_type": "execute_result",
          "data": {
            "text/plain": [
              "1"
            ]
          },
          "metadata": {},
          "execution_count": 23
        }
      ]
    },
    {
      "cell_type": "code",
      "source": [
        "dizi[0:3]"
      ],
      "metadata": {
        "colab": {
          "base_uri": "https://localhost:8080/"
        },
        "id": "dUc9ivaC5wNW",
        "outputId": "937197c4-76b3-4444-fb16-06ba043d3beb"
      },
      "execution_count": null,
      "outputs": [
        {
          "output_type": "execute_result",
          "data": {
            "text/plain": [
              "array([1, 2, 3])"
            ]
          },
          "metadata": {},
          "execution_count": 24
        }
      ]
    },
    {
      "cell_type": "code",
      "source": [
        "dizi[::-1]"
      ],
      "metadata": {
        "colab": {
          "base_uri": "https://localhost:8080/"
        },
        "id": "TyF_XjWq59N3",
        "outputId": "ab48d44f-dff4-407f-86ea-a1bf6f9053e0"
      },
      "execution_count": null,
      "outputs": [
        {
          "output_type": "execute_result",
          "data": {
            "text/plain": [
              "array([7, 6, 5, 4, 3, 2, 1])"
            ]
          },
          "metadata": {},
          "execution_count": 25
        }
      ]
    },
    {
      "cell_type": "code",
      "source": [
        "dizi2D = np.array([[1,2,3,4,5],[6,7,8,9,10]])\n",
        "dizi2D"
      ],
      "metadata": {
        "colab": {
          "base_uri": "https://localhost:8080/"
        },
        "id": "Wv5wItSW6HDU",
        "outputId": "ade547d1-7d32-403e-9a38-4bd21cce3cd3"
      },
      "execution_count": null,
      "outputs": [
        {
          "output_type": "execute_result",
          "data": {
            "text/plain": [
              "array([[ 1,  2,  3,  4,  5],\n",
              "       [ 6,  7,  8,  9, 10]])"
            ]
          },
          "metadata": {},
          "execution_count": 26
        }
      ]
    },
    {
      "cell_type": "code",
      "source": [
        "dizi2D[0,0]"
      ],
      "metadata": {
        "colab": {
          "base_uri": "https://localhost:8080/"
        },
        "id": "z0qtz3j36S2-",
        "outputId": "ea92a174-90a5-41b7-98f3-6df2db0ca438"
      },
      "execution_count": null,
      "outputs": [
        {
          "output_type": "execute_result",
          "data": {
            "text/plain": [
              "1"
            ]
          },
          "metadata": {},
          "execution_count": 27
        }
      ]
    },
    {
      "cell_type": "code",
      "source": [
        "dizi2D[1,(0,1,2,3,4)]"
      ],
      "metadata": {
        "colab": {
          "base_uri": "https://localhost:8080/"
        },
        "id": "QzgYewS96hJv",
        "outputId": "044e3e38-0c08-40c9-8bb2-794244cc7324"
      },
      "execution_count": null,
      "outputs": [
        {
          "output_type": "execute_result",
          "data": {
            "text/plain": [
              "array([ 6,  7,  8,  9, 10])"
            ]
          },
          "metadata": {},
          "execution_count": 28
        }
      ]
    },
    {
      "cell_type": "code",
      "source": [
        "dizi2D[1, :]\n"
      ],
      "metadata": {
        "colab": {
          "base_uri": "https://localhost:8080/"
        },
        "id": "J3gV44OE616D",
        "outputId": "6c50f640-475a-4495-9572-7a44a9f83b25"
      },
      "execution_count": null,
      "outputs": [
        {
          "output_type": "execute_result",
          "data": {
            "text/plain": [
              "array([ 6,  7,  8,  9, 10])"
            ]
          },
          "metadata": {},
          "execution_count": 29
        }
      ]
    },
    {
      "cell_type": "code",
      "source": [
        "dizi2D[:, 2]"
      ],
      "metadata": {
        "colab": {
          "base_uri": "https://localhost:8080/"
        },
        "id": "G_rPt76D66a9",
        "outputId": "13de4693-2d13-456d-d205-9de52d90dcbb"
      },
      "execution_count": null,
      "outputs": [
        {
          "output_type": "execute_result",
          "data": {
            "text/plain": [
              "array([3, 8])"
            ]
          },
          "metadata": {},
          "execution_count": 30
        }
      ]
    },
    {
      "cell_type": "code",
      "source": [
        "dizi2D[-1, :]"
      ],
      "metadata": {
        "colab": {
          "base_uri": "https://localhost:8080/"
        },
        "id": "mUXqk1Is7hns",
        "outputId": "0f25921d-66f7-4a8d-daae-1e5f1ffd4188"
      },
      "execution_count": null,
      "outputs": [
        {
          "output_type": "execute_result",
          "data": {
            "text/plain": [
              "array([ 6,  7,  8,  9, 10])"
            ]
          },
          "metadata": {},
          "execution_count": 31
        }
      ]
    },
    {
      "cell_type": "markdown",
      "source": [
        "**Dizi manipulation**"
      ],
      "metadata": {
        "id": "gkfqC8sR9JA5"
      }
    },
    {
      "cell_type": "code",
      "source": [
        "dizi2D= np.array([[1,2,3,4,5],[6,7,8,9,10]])\n",
        "dizi2D"
      ],
      "metadata": {
        "colab": {
          "base_uri": "https://localhost:8080/"
        },
        "id": "sjEuDeXT9O_G",
        "outputId": "6b8d07e3-9d41-465f-9cc1-0e62bee8a080"
      },
      "execution_count": null,
      "outputs": [
        {
          "output_type": "execute_result",
          "data": {
            "text/plain": [
              "array([[ 1,  2,  3,  4,  5],\n",
              "       [ 6,  7,  8,  9, 10]])"
            ]
          },
          "metadata": {},
          "execution_count": 32
        }
      ]
    },
    {
      "cell_type": "code",
      "source": [
        "dizi2D.shape"
      ],
      "metadata": {
        "colab": {
          "base_uri": "https://localhost:8080/"
        },
        "id": "ZvllveAa9RmU",
        "outputId": "579ce3d3-0376-4e5d-e84d-37cccdf841f0"
      },
      "execution_count": null,
      "outputs": [
        {
          "output_type": "execute_result",
          "data": {
            "text/plain": [
              "(2, 5)"
            ]
          },
          "metadata": {},
          "execution_count": 33
        }
      ]
    },
    {
      "cell_type": "code",
      "source": [
        "dizi2D_sahpe= dizi2D.shape\n",
        "dizi2D_sahpe"
      ],
      "metadata": {
        "colab": {
          "base_uri": "https://localhost:8080/"
        },
        "id": "8BRsIk2H9URU",
        "outputId": "0b6ebb5a-5106-4375-ea3d-8d30b9edb819"
      },
      "execution_count": null,
      "outputs": [
        {
          "output_type": "execute_result",
          "data": {
            "text/plain": [
              "(2, 5)"
            ]
          },
          "metadata": {},
          "execution_count": 34
        }
      ]
    },
    {
      "cell_type": "code",
      "source": [
        "print(dizi2D.reshape(dizi2D_sahpe[0]*dizi2D_sahpe[1])) # vektöre çeviriyoruz"
      ],
      "metadata": {
        "colab": {
          "base_uri": "https://localhost:8080/"
        },
        "id": "wULw0qc69aEt",
        "outputId": "b57d12f1-c32c-40c6-aa25-3d358dfdc849"
      },
      "execution_count": null,
      "outputs": [
        {
          "output_type": "stream",
          "name": "stdout",
          "text": [
            "[ 1  2  3  4  5  6  7  8  9 10]\n"
          ]
        }
      ]
    },
    {
      "cell_type": "code",
      "source": [
        "print(dizi2D.reshape(dizi2D_sahpe[0]* dizi2D_sahpe[1],-1))"
      ],
      "metadata": {
        "colab": {
          "base_uri": "https://localhost:8080/"
        },
        "id": "9jvTxH3b90Rh",
        "outputId": "b226e03e-88d8-4c27-b181-650240395a1b"
      },
      "execution_count": null,
      "outputs": [
        {
          "output_type": "stream",
          "name": "stdout",
          "text": [
            "[[ 1]\n",
            " [ 2]\n",
            " [ 3]\n",
            " [ 4]\n",
            " [ 5]\n",
            " [ 6]\n",
            " [ 7]\n",
            " [ 8]\n",
            " [ 9]\n",
            " [10]]\n"
          ]
        }
      ]
    },
    {
      "cell_type": "code",
      "source": [],
      "metadata": {
        "id": "X2boPYY1-wtV"
      },
      "execution_count": null,
      "outputs": []
    },
    {
      "cell_type": "code",
      "source": [
        "dizi2D.T"
      ],
      "metadata": {
        "colab": {
          "base_uri": "https://localhost:8080/"
        },
        "id": "ip2Sfapv-PxN",
        "outputId": "0d99013e-1671-49f2-f882-75fed0c6e62b"
      },
      "execution_count": null,
      "outputs": [
        {
          "output_type": "execute_result",
          "data": {
            "text/plain": [
              "array([[ 1,  6],\n",
              "       [ 2,  7],\n",
              "       [ 3,  8],\n",
              "       [ 4,  9],\n",
              "       [ 5, 10]])"
            ]
          },
          "metadata": {},
          "execution_count": 60
        }
      ]
    },
    {
      "cell_type": "code",
      "source": [
        "\"\"\"\n",
        "1) a Dizisi: İki boyutlu bir NumPy dizisi oluşturun, boyutu (3, 5) olsun.\n",
        "2) b Dizisi: Tek boyutlu bir NumPy dizisi oluşturun, boyutu (15,) olsun.\n",
        "3) b Dizisinin Yeniden Şekillendirilmesi: b dizisini (3, 5) boyutunda olacak şekilde yeniden şekillendirin.\n",
        "4) c = a + b\n",
        "5) d: np.linspace fonksiyonunu kullanarak (3, 5) boyutunda bir NumPy matrisi oluşturun.\n",
        "   e: np.arange fonksiyonunu kullanarak (3, 5) boyutunda bir NumPy matrisi oluşturun.\n",
        "6) f = d + e\n",
        "7) c ve f dizilerinin her bir elemanını satır bazında çarpın. Sonuçları (15, 1) boyutundaki g dizisini dolduracak şekilde bir for döngüsü kullanarak elde edin.\n",
        "8) c ve f dizilerini (15, 1) boyutuna yeniden şekillendirin.\n",
        "   Yeniden şekillendirilen c dizisinin ilk elemanı ile f dizisinin son elemanını toplayın.\n",
        "9) Elde edilen toplam değerleri kontrol edin:\n",
        "   Eğer toplam 1'den büyükse, g1 isimli bir listeye ekleyin.\n",
        "   Aksi takdirde, g2 isimli bir listeye ekleyin\n",
        "\"\"\"\n",
        "a = np.array([[1,2,3,4,5],[6,7,8,9,10],[11,12,13,14,15]])\n",
        "b = np.array([1,2,3,4,5,6,7,8,9,10,11,12,13,14,15])\n",
        "b = b.reshape(3,5)\n",
        "c = a + b\n",
        "print(\"c: \",c)"
      ],
      "metadata": {
        "colab": {
          "base_uri": "https://localhost:8080/"
        },
        "id": "dtMtoKkA-RrY",
        "outputId": "933f10f1-47b1-4aa3-8072-9cc91f88f084"
      },
      "execution_count": null,
      "outputs": [
        {
          "output_type": "stream",
          "name": "stdout",
          "text": [
            "c:  [[ 2  4  6  8 10]\n",
            " [12 14 16 18 20]\n",
            " [22 24 26 28 30]]\n"
          ]
        }
      ]
    },
    {
      "cell_type": "code",
      "source": [
        "d = np.linspace(10,50,15).reshape(3,5)\n",
        "print(\"d: \",d)\n",
        "e = np.arange(10,160,10).reshape(3,5)\n",
        "print(\"e: \",e)\n",
        "f = d + e\n",
        "print(\"f: \",f)\n",
        "# f\n",
        "# print(\"c shape:\", c.shape)\n",
        "# print(\"f shape:\", f.shape)\n"
      ],
      "metadata": {
        "colab": {
          "base_uri": "https://localhost:8080/"
        },
        "id": "g_4TcpvPD-u6",
        "outputId": "3aa99bbb-84c0-4eda-c69f-3bcab738839c"
      },
      "execution_count": null,
      "outputs": [
        {
          "output_type": "stream",
          "name": "stdout",
          "text": [
            "d:  [[10.         12.85714286 15.71428571 18.57142857 21.42857143]\n",
            " [24.28571429 27.14285714 30.         32.85714286 35.71428571]\n",
            " [38.57142857 41.42857143 44.28571429 47.14285714 50.        ]]\n",
            "e:  [[ 10  20  30  40  50]\n",
            " [ 60  70  80  90 100]\n",
            " [110 120 130 140 150]]\n",
            "f:  [[ 20.          32.85714286  45.71428571  58.57142857  71.42857143]\n",
            " [ 84.28571429  97.14285714 110.         122.85714286 135.71428571]\n",
            " [148.57142857 161.42857143 174.28571429 187.14285714 200.        ]]\n"
          ]
        }
      ]
    },
    {
      "cell_type": "code",
      "source": [
        "g = []\n",
        "for i in range(c.shape[0]):\n",
        "    for j in range(c.shape[1]):\n",
        "        g.append(c[i, j] * f[i, j])\n",
        "print(\"g shape: \",np.array(g).shape)"
      ],
      "metadata": {
        "colab": {
          "base_uri": "https://localhost:8080/"
        },
        "id": "SYKub7f-GGP9",
        "outputId": "baf09b66-43e5-43dc-c77d-b12f4d197f72"
      },
      "execution_count": null,
      "outputs": [
        {
          "output_type": "stream",
          "name": "stdout",
          "text": [
            "g shape:  (15,)\n"
          ]
        }
      ]
    },
    {
      "cell_type": "code",
      "source": [
        "c = c.reshape(15,1)\n",
        "f = f.reshape(15,1)\n",
        "f =f[::-1]\n",
        "g1 = []\n",
        "g2 = []\n",
        "for i in range(len(c)):\n",
        "    toplam = c[i] + f[i]\n",
        "    if toplam > 1:\n",
        "        G1.append(toplam)\n",
        "    else:\n",
        "        G2.append(toplam)\n",
        "print(\"g1 (Toplam > 1 olanlar):\", g1)\n",
        "print(\"g2 (Toplam <= 1 olanlar):\", g2)\n"
      ],
      "metadata": {
        "colab": {
          "base_uri": "https://localhost:8080/"
        },
        "id": "dV5HiOoVGoZl",
        "outputId": "865268b9-38c9-46a5-8042-131365e33b9b"
      },
      "execution_count": null,
      "outputs": [
        {
          "output_type": "stream",
          "name": "stdout",
          "text": [
            "g1 (Toplam > 1 olanlar): []\n",
            "g2 (Toplam <= 1 olanlar): []\n"
          ]
        }
      ]
    },
    {
      "cell_type": "markdown",
      "source": [
        "**Stacking**"
      ],
      "metadata": {
        "id": "rPjyS37T-Su2"
      }
    },
    {
      "cell_type": "code",
      "source": [
        "array1 = np.array([[1,2],[3,4]])\n",
        "array1"
      ],
      "metadata": {
        "colab": {
          "base_uri": "https://localhost:8080/"
        },
        "id": "BBKs5Jgl-TUB",
        "outputId": "f0d78c18-b066-47e7-d083-122c28e3f627"
      },
      "execution_count": 2,
      "outputs": [
        {
          "output_type": "execute_result",
          "data": {
            "text/plain": [
              "array([[1, 2],\n",
              "       [3, 4]])"
            ]
          },
          "metadata": {},
          "execution_count": 2
        }
      ]
    },
    {
      "cell_type": "code",
      "source": [
        "array2 = np.array([[-1,-2],[-3,-4]])\n",
        "array2"
      ],
      "metadata": {
        "colab": {
          "base_uri": "https://localhost:8080/"
        },
        "id": "_EMZ32Qa-Yqa",
        "outputId": "83414ea8-ed56-4025-9b1d-1256865f27de"
      },
      "execution_count": 3,
      "outputs": [
        {
          "output_type": "execute_result",
          "data": {
            "text/plain": [
              "array([[-1, -2],\n",
              "       [-3, -4]])"
            ]
          },
          "metadata": {},
          "execution_count": 3
        }
      ]
    },
    {
      "cell_type": "code",
      "source": [
        "array_vertical =np.vstack((array1,array2))\n",
        "array_vertical"
      ],
      "metadata": {
        "colab": {
          "base_uri": "https://localhost:8080/"
        },
        "id": "E7mZQ5gA-aZ7",
        "outputId": "d426c99e-2d6c-45df-b89a-249a521410e9"
      },
      "execution_count": 4,
      "outputs": [
        {
          "output_type": "execute_result",
          "data": {
            "text/plain": [
              "array([[ 1,  2],\n",
              "       [ 3,  4],\n",
              "       [-1, -2],\n",
              "       [-3, -4]])"
            ]
          },
          "metadata": {},
          "execution_count": 4
        }
      ]
    },
    {
      "cell_type": "code",
      "source": [
        "array_horizontal = np.hstack((array1,array2))\n",
        "array_horizontal"
      ],
      "metadata": {
        "colab": {
          "base_uri": "https://localhost:8080/"
        },
        "id": "Nc--EHlP-ccx",
        "outputId": "cc4752d1-05ba-48f1-8908-f9c6d1765cfa"
      },
      "execution_count": 5,
      "outputs": [
        {
          "output_type": "execute_result",
          "data": {
            "text/plain": [
              "array([[ 1,  2, -1, -2],\n",
              "       [ 3,  4, -3, -4]])"
            ]
          },
          "metadata": {},
          "execution_count": 5
        }
      ]
    },
    {
      "cell_type": "code",
      "source": [
        "# problem: 2 boyutlu 3 array oluştur.\n",
        "# yatayda ve dikeyde birleştir.\n",
        "example_array1 = np.array([[1,2],[3,4]])\n",
        "example_array2 = np.array([[-1,-2],[-3,-4]])\n",
        "example_array3 = np.array([[5,6],[7,8]])"
      ],
      "metadata": {
        "id": "wauc3kmv-eRU"
      },
      "execution_count": 6,
      "outputs": []
    },
    {
      "cell_type": "code",
      "source": [
        "exapmle_array_vertical =np.vstack((example_array1,example_array2,example_array3))\n",
        "exapmle_array_vertical"
      ],
      "metadata": {
        "colab": {
          "base_uri": "https://localhost:8080/"
        },
        "id": "8XVwgUaa-hIQ",
        "outputId": "10ef95e4-b0cb-4a1c-c092-d5096c3ce2e7"
      },
      "execution_count": 7,
      "outputs": [
        {
          "output_type": "execute_result",
          "data": {
            "text/plain": [
              "array([[ 1,  2],\n",
              "       [ 3,  4],\n",
              "       [-1, -2],\n",
              "       [-3, -4],\n",
              "       [ 5,  6],\n",
              "       [ 7,  8]])"
            ]
          },
          "metadata": {},
          "execution_count": 7
        }
      ]
    },
    {
      "cell_type": "code",
      "source": [
        "example_array_horizontal = np.hstack((example_array1,example_array2,example_array3))\n",
        "print(example_array_horizontal)"
      ],
      "metadata": {
        "colab": {
          "base_uri": "https://localhost:8080/"
        },
        "id": "HHxorncn-i4p",
        "outputId": "078d48e5-f0dd-42eb-a710-27a0aa16d324"
      },
      "execution_count": 8,
      "outputs": [
        {
          "output_type": "stream",
          "name": "stdout",
          "text": [
            "[[ 1  2 -1 -2  5  6]\n",
            " [ 3  4 -3 -4  7  8]]\n"
          ]
        }
      ]
    }
  ]
}