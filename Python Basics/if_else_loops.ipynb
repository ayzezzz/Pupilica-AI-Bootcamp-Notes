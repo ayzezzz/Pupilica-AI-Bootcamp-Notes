{
  "nbformat": 4,
  "nbformat_minor": 0,
  "metadata": {
    "colab": {
      "provenance": []
    },
    "kernelspec": {
      "name": "python3",
      "display_name": "Python 3"
    },
    "language_info": {
      "name": "python"
    }
  },
  "cells": [
    {
      "cell_type": "markdown",
      "source": [
        "**if - else**"
      ],
      "metadata": {
        "id": "1lZnYeJQQi78"
      }
    },
    {
      "cell_type": "code",
      "source": [
        "sayi1 = 12\n",
        "sayi2 = 22\n",
        "if sayi1 < sayi2:\n",
        "  print(\"sayi1 sayi2 den küçüktür\")\n",
        "elif sayi1 == sayi2:\n",
        "  print(\"sayi1 sayi2 ye eşittir\")\n",
        "else:\n",
        "  print(\"sayi1 sayi2 den küçük değildir\")"
      ],
      "metadata": {
        "colab": {
          "base_uri": "https://localhost:8080/"
        },
        "id": "Guc7wf79QnTz",
        "outputId": "1c77a6bc-29f0-42a6-ffb4-78fe451a6e82"
      },
      "execution_count": 3,
      "outputs": [
        {
          "output_type": "stream",
          "name": "stdout",
          "text": [
            "sayi1 sayi2 den küçüktür\n"
          ]
        }
      ]
    },
    {
      "cell_type": "code",
      "source": [
        "sayi1 < sayi2"
      ],
      "metadata": {
        "colab": {
          "base_uri": "https://localhost:8080/"
        },
        "id": "HrvUw56pQxMC",
        "outputId": "95c38092-ddf1-47ff-b6f4-8cafb4c1d8fc"
      },
      "execution_count": 2,
      "outputs": [
        {
          "output_type": "execute_result",
          "data": {
            "text/plain": [
              "True"
            ]
          },
          "metadata": {},
          "execution_count": 2
        }
      ]
    },
    {
      "cell_type": "code",
      "source": [
        "# problem: değer listenin içinde mi?\n",
        "list = [1,2,3,4,5]\n",
        "deger = 10\n",
        "if deger in list:\n",
        "  print(f\"{deger} listenin içinde\")\n",
        "else:\n",
        "  print(f\" {deger} listenin içinde değil\")"
      ],
      "metadata": {
        "colab": {
          "base_uri": "https://localhost:8080/"
        },
        "id": "-f5nlnnwQ3kg",
        "outputId": "89f3c65b-7cc9-4fed-bf26-07653e89384e"
      },
      "execution_count": 4,
      "outputs": [
        {
          "output_type": "stream",
          "name": "stdout",
          "text": [
            " 10 listenin içinde değil\n"
          ]
        }
      ]
    },
    {
      "cell_type": "code",
      "source": [
        "# problem: ülke isimleri dictionary içerisind eyer alıyor mu?\n",
        "dictionary = {\"Turkiye\" : \"Ankara\", \"Ingiltere\" : \"Londra\", \"Almanya\" : \"Berlin\"}\n",
        "deger = \"Turkiye\"\n",
        "keys = dictionary.keys()\n",
        "\n",
        "if deger in keys:\n",
        "  print(f\"{deger} dictionary içerisinde\")\n",
        "else:\n",
        "  print(f\"{deger} dictionary içerisinde değil\")\n",
        ""
      ],
      "metadata": {
        "colab": {
          "base_uri": "https://localhost:8080/"
        },
        "id": "3hr8GNs7TMC4",
        "outputId": "405d3f07-c29f-4eac-ea77-f404ad3e9fc1"
      },
      "execution_count": 6,
      "outputs": [
        {
          "output_type": "stream",
          "name": "stdout",
          "text": [
            "Turkiye dictionary içerisinde\n"
          ]
        }
      ]
    },
    {
      "cell_type": "code",
      "source": [
        "# pazartesi günü 2. indexte ise yazdır.\n",
        "haftanin_gunleri = [\"pazartesi\", \"salı\", \"çarşamba\", \"perşembe\", \"cuma\", \"cumartesi\", \"pazar\"]\n",
        "\n",
        "if \"pazartesi\" == haftanin_gunleri[2]:\n",
        "  print(\"pazartesi günü listenin 2. index içerisinde\")\n",
        "else:\n",
        "  print(\"2. index içerisinde değil\")"
      ],
      "metadata": {
        "colab": {
          "base_uri": "https://localhost:8080/"
        },
        "id": "nKKXg5P5TZA9",
        "outputId": "f68d5508-3814-4b6d-edbf-8f113e0ce000"
      },
      "execution_count": 13,
      "outputs": [
        {
          "output_type": "stream",
          "name": "stdout",
          "text": [
            "2. index içerisinde değil\n"
          ]
        }
      ]
    },
    {
      "cell_type": "markdown",
      "source": [
        "**for loop**"
      ],
      "metadata": {
        "id": "Hn9Uu-aFVRlc"
      }
    },
    {
      "cell_type": "code",
      "source": [
        "for i in range(1, 11):\n",
        "  print(i)"
      ],
      "metadata": {
        "colab": {
          "base_uri": "https://localhost:8080/"
        },
        "id": "8W7jHA5PVU6D",
        "outputId": "3d24fb94-95b6-499e-fb1e-588c18d24ad2"
      },
      "execution_count": 14,
      "outputs": [
        {
          "output_type": "stream",
          "name": "stdout",
          "text": [
            "1\n",
            "2\n",
            "3\n",
            "4\n",
            "5\n",
            "6\n",
            "7\n",
            "8\n",
            "9\n",
            "10\n"
          ]
        }
      ]
    },
    {
      "cell_type": "code",
      "source": [
        "for i in range(1, 5):\n",
        "  print(i * 2)"
      ],
      "metadata": {
        "colab": {
          "base_uri": "https://localhost:8080/"
        },
        "id": "etssZiA0WPKH",
        "outputId": "5815a0cb-8ad8-418f-f9cd-4983135eafb1"
      },
      "execution_count": 16,
      "outputs": [
        {
          "output_type": "stream",
          "name": "stdout",
          "text": [
            "2\n",
            "4\n",
            "6\n",
            "8\n"
          ]
        }
      ]
    },
    {
      "cell_type": "code",
      "source": [
        "liste = [1,2,3,4,5,6,7,8,9]\n",
        "sum = 0\n",
        "for i in liste:\n",
        "  sum += i\n",
        "print(sum)\n",
        "#print(sum(liste))"
      ],
      "metadata": {
        "colab": {
          "base_uri": "https://localhost:8080/"
        },
        "id": "92xtHFuPXAH7",
        "outputId": "459b7914-394a-47cf-dd0d-d852b456ceda"
      },
      "execution_count": 25,
      "outputs": [
        {
          "output_type": "stream",
          "name": "stdout",
          "text": [
            "45\n"
          ]
        }
      ]
    },
    {
      "cell_type": "code",
      "source": [
        "\"\"\"\n",
        "Problem:\n",
        "NLP, elimizde bir cümle var (string formatında). Örneğin: \"Bugün Python Dersimiz Var.\"\n",
        "\n",
        "İstenilen:\n",
        "Cümledeki kelimelerin küçük harfe çevrilmiş ve liste formatında ayrılmış hali:\n",
        "Örnek çıktı: [\"bugün\", \"python\", \"dersimiz\", \"var.\"]\n",
        "\n",
        "\"\"\"\n",
        "cumle = \"Bugün Python Dersimiz Var.\"\n",
        "liste_cumle = cumle.split()\n",
        "print(liste_cumle)\n"
      ],
      "metadata": {
        "colab": {
          "base_uri": "https://localhost:8080/"
        },
        "id": "o97GH7uyY9NK",
        "outputId": "1e6d44b5-5a47-45f4-82ae-30e549ce0dc1"
      },
      "execution_count": 28,
      "outputs": [
        {
          "output_type": "stream",
          "name": "stdout",
          "text": [
            "['Bugün', 'Python', 'Dersimiz', 'Var.']\n"
          ]
        }
      ]
    },
    {
      "cell_type": "code",
      "source": [
        "liste= []\n",
        "for i in liste_cumle:\n",
        " kelime_kucuk_harf = i.lower()\n",
        " liste.append(kelime_kucuk_harf)\n",
        "print(liste)"
      ],
      "metadata": {
        "colab": {
          "base_uri": "https://localhost:8080/"
        },
        "id": "7jYUXqmrbFmB",
        "outputId": "19deb4de-72bd-4adc-b8ac-f84fe6710e84"
      },
      "execution_count": 33,
      "outputs": [
        {
          "output_type": "stream",
          "name": "stdout",
          "text": [
            "['bugün', 'python', 'dersimiz', 'var.']\n"
          ]
        }
      ]
    },
    {
      "cell_type": "code",
      "source": [
        "\"\"\"\n",
        "Problem:\n",
        "Bir liste içerisindeki çift sayıların toplamını hesaplayan bir fonksiyon yazılması isteniyor.\n",
        "\n",
        "Girdi:\n",
        "Bir liste (örnek: [1, 2, 3, 4, 5, 6])\n",
        "\n",
        "Çıktı:\n",
        "Listenin içerisindeki çift sayıların toplamı (örnek: 12)\n",
        "\n",
        "\"\"\"\n",
        "\n",
        "def cift_topla(liste):\n",
        "  toplam = 0\n",
        "  for i in liste:\n",
        "    if i % 2 == 0:\n",
        "      toplam += i\n",
        "  return toplam\n",
        "\n"
      ],
      "metadata": {
        "id": "ltXXvwETbKNR"
      },
      "execution_count": 35,
      "outputs": []
    },
    {
      "cell_type": "code",
      "source": [
        "cift_topla([1, 2, 3, 4, 5, 6])"
      ],
      "metadata": {
        "colab": {
          "base_uri": "https://localhost:8080/"
        },
        "id": "rpYGegv9c_aI",
        "outputId": "4e95db0f-64aa-4844-a290-aa799910226e"
      },
      "execution_count": 36,
      "outputs": [
        {
          "output_type": "execute_result",
          "data": {
            "text/plain": [
              "12"
            ]
          },
          "metadata": {},
          "execution_count": 36
        }
      ]
    }
  ]
}