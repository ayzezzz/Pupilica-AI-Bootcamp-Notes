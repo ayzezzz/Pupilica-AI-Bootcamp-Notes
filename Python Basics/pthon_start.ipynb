{
  "nbformat": 4,
  "nbformat_minor": 0,
  "metadata": {
    "colab": {
      "provenance": []
    },
    "kernelspec": {
      "name": "python3",
      "display_name": "Python 3"
    },
    "language_info": {
      "name": "python"
    }
  },
  "cells": [
    {
      "cell_type": "code",
      "execution_count": 2,
      "metadata": {
        "colab": {
          "base_uri": "https://localhost:8080/"
        },
        "id": "Yg0LXkofyHf7",
        "outputId": "fb5e79ee-8ff8-49a6-bb37-ba1edeffb248"
      },
      "outputs": [
        {
          "output_type": "stream",
          "name": "stdout",
          "text": [
            "10\n"
          ]
        }
      ],
      "source": [
        "# variable\n",
        "# integer veriable\n",
        "int_veriable= 10\n",
        "\n",
        "print(int_veriable)"
      ]
    },
    {
      "cell_type": "code",
      "source": [
        "# float veriable\n",
        "ft_veriable = 10.5\n",
        "print(ft_veriable)\n"
      ],
      "metadata": {
        "colab": {
          "base_uri": "https://localhost:8080/"
        },
        "id": "gtLMadCH4j9b",
        "outputId": "a7f5c897-b1c4-46f0-98a0-7870ad1614e7"
      },
      "execution_count": 3,
      "outputs": [
        {
          "output_type": "stream",
          "name": "stdout",
          "text": [
            "10.5\n"
          ]
        }
      ]
    },
    {
      "cell_type": "code",
      "source": [
        "type(ft_veriable)"
      ],
      "metadata": {
        "colab": {
          "base_uri": "https://localhost:8080/"
        },
        "id": "Kj9mV5t0546_",
        "outputId": "932d00be-1c34-4e87-af16-c55ab395f847"
      },
      "execution_count": 4,
      "outputs": [
        {
          "output_type": "execute_result",
          "data": {
            "text/plain": [
              "float"
            ]
          },
          "metadata": {},
          "execution_count": 4
        }
      ]
    },
    {
      "cell_type": "code",
      "source": [
        "# str veriable\n",
        "str1 = \"python\"\n",
        "str2 = \"3\"\n",
        "str1 + str2"
      ],
      "metadata": {
        "colab": {
          "base_uri": "https://localhost:8080/",
          "height": 35
        },
        "id": "Z1SAbS1L6Jah",
        "outputId": "593486b7-e1b4-4fbb-88d2-1d186a3e1233"
      },
      "execution_count": 9,
      "outputs": [
        {
          "output_type": "execute_result",
          "data": {
            "text/plain": [
              "'python3'"
            ],
            "application/vnd.google.colaboratory.intrinsic+json": {
              "type": "string"
            }
          },
          "metadata": {},
          "execution_count": 9
        }
      ]
    },
    {
      "cell_type": "code",
      "source": [
        "# f string\n",
        "print(f\" {str1}, {str2}\")"
      ],
      "metadata": {
        "colab": {
          "base_uri": "https://localhost:8080/"
        },
        "id": "cVm8_R2o6dNF",
        "outputId": "b24a5e60-6708-49f3-f2a6-c9c9f4757d09"
      },
      "execution_count": 10,
      "outputs": [
        {
          "output_type": "stream",
          "name": "stdout",
          "text": [
            " python, 3\n"
          ]
        }
      ]
    },
    {
      "cell_type": "markdown",
      "source": [
        "Functions\n",
        "\n",
        "\n",
        "*   User Defined Function\n",
        "\n"
      ],
      "metadata": {
        "id": "SbyUkcHR8KLB"
      }
    },
    {
      "cell_type": "code",
      "source": [
        "# dairenin alanını hesaplamak\n",
        "pi = 3.14\n",
        "daire_yaricapi= 3\n",
        "daire_alani = pi *(daire_yaricapi**2)\n",
        "print(daire_alani)"
      ],
      "metadata": {
        "colab": {
          "base_uri": "https://localhost:8080/"
        },
        "id": "geqB6B738O08",
        "outputId": "6ce5fd6f-557a-4094-97d6-f1a0967dbed1"
      },
      "execution_count": 12,
      "outputs": [
        {
          "output_type": "stream",
          "name": "stdout",
          "text": [
            "28.26\n"
          ]
        }
      ]
    },
    {
      "cell_type": "code",
      "source": [
        "def daireAlaniHesapla(daire_yaricapi = 5):\n",
        "  \"\"\"\n",
        "  Description: Bu fonksiyon, verilen daire yarıçapına göre dairenin alanını hesaplar.\n",
        "\n",
        "  Input Parameters:\n",
        "  daire_yaricapi (float): Dairenin yarıçapı. Varsayılan değer 5'tir.\n",
        "\n",
        "  Output:\n",
        "  float: Dairenin alanı.\n",
        "  \"\"\"\n",
        "  PI = 3.14\n",
        "  daire_alani = pi *(daire_yaricapi**2)\n",
        "  print(f\"Daire alani:{daire_alani}\")\n",
        "  return daire_alani"
      ],
      "metadata": {
        "id": "BN2tHrsa--2y"
      },
      "execution_count": 24,
      "outputs": []
    },
    {
      "cell_type": "code",
      "source": [
        "daireAlaniHesapla()"
      ],
      "metadata": {
        "colab": {
          "base_uri": "https://localhost:8080/"
        },
        "id": "zNHbqRMN_d1U",
        "outputId": "48c0d27e-aa4b-458c-a428-54a0edd100df"
      },
      "execution_count": 25,
      "outputs": [
        {
          "output_type": "stream",
          "name": "stdout",
          "text": [
            "Daire alani:78.5\n"
          ]
        },
        {
          "output_type": "execute_result",
          "data": {
            "text/plain": [
              "78.5"
            ]
          },
          "metadata": {},
          "execution_count": 25
        }
      ]
    },
    {
      "cell_type": "code",
      "source": [
        "user_input = input(\"Bir sayi giriniz!\")\n",
        "user_input_int=int(user_input)\n",
        "print(f\"{type(user_input_int)}\")\n",
        "daireAlaniHesapla(user_input_int)"
      ],
      "metadata": {
        "colab": {
          "base_uri": "https://localhost:8080/"
        },
        "id": "VciocTgOHhT7",
        "outputId": "0a27e3fc-1265-4f09-be89-966173c86b3e"
      },
      "execution_count": 27,
      "outputs": [
        {
          "output_type": "stream",
          "name": "stdout",
          "text": [
            "Bir sayi giriniz!45\n",
            "<class 'int'>\n",
            "Daire alani:6358.5\n"
          ]
        },
        {
          "output_type": "execute_result",
          "data": {
            "text/plain": [
              "6358.5"
            ]
          },
          "metadata": {},
          "execution_count": 27
        }
      ]
    },
    {
      "cell_type": "code",
      "source": [
        "daire_alani_hesaplanan1 = daireAlaniHesapla(5)\n",
        "daire_alani_hesaplanan2 = daireAlaniHesapla(3)\n",
        "print(daire_alani_hesaplanan1 + daire_alani_hesaplanan2)\n"
      ],
      "metadata": {
        "colab": {
          "base_uri": "https://localhost:8080/"
        },
        "id": "DS9Sb5ADIvuB",
        "outputId": "8fc9eb38-4b9d-47b5-8dfb-49fdd9e70762"
      },
      "execution_count": 32,
      "outputs": [
        {
          "output_type": "stream",
          "name": "stdout",
          "text": [
            "Daire alani:78.5\n",
            "Daire alani:28.26\n",
            "106.76\n"
          ]
        }
      ]
    },
    {
      "cell_type": "code",
      "source": [
        "# daire cevresi hesaplama: 2*pi*r\n",
        "def daireCevresiHesapla(r):\n",
        "  \"\"\"\n",
        "  Description: Bu fonksiyon, verilen daire yarıçapına göre dairenin çevresini hesaplar.\n",
        "\n",
        "  Input Parameters:\n",
        "  r (float): Dairenin yarıçapı.\n",
        "\n",
        "  Output:\n",
        "  float: Dairenin çevresi.\n",
        "\n",
        "  \"\"\"\n",
        "  PI = 3.14\n",
        "  daire_cevresi=2*PI*r\n",
        "  return daire_cevresi\n"
      ],
      "metadata": {
        "id": "SScoiJdaKSKY"
      },
      "execution_count": 33,
      "outputs": []
    },
    {
      "cell_type": "code",
      "source": [
        "daire_cevresi_hesaplanan= daireCevresiHesapla(5)\n",
        "print(f\"hesaplanan daire cevresi : {daire_cevresi_hesaplanan}\")"
      ],
      "metadata": {
        "colab": {
          "base_uri": "https://localhost:8080/"
        },
        "id": "Zad4JZ7OMsu1",
        "outputId": "1c21ea0b-daa3-4612-e182-0a6cbb00b07b"
      },
      "execution_count": 35,
      "outputs": [
        {
          "output_type": "stream",
          "name": "stdout",
          "text": [
            "hesaplanan daire cevresi : 31.400000000000002\n"
          ]
        }
      ]
    },
    {
      "cell_type": "markdown",
      "source": [],
      "metadata": {
        "id": "fM-izuqyJbmq"
      }
    }
  ]
}