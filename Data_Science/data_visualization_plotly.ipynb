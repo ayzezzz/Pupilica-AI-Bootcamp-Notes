{
 "cells": [
  {
   "cell_type": "code",
   "execution_count": 5,
   "id": "1fdc6ce8-7e52-4714-84a3-35ed50cd7237",
   "metadata": {},
   "outputs": [],
   "source": [
    "import plotly.graph_objects as go\n",
    "import pandas as pd\n",
    "import numpy as np\n",
    "from plotly.offline import plot\n",
    "\n",
    "veri = pd.read_csv(\"Data Files/universite_siralamasi.csv\")\n",
    "\n",
    "# Kolon isimlerini Türkçeleştirelim\n",
    "veri.rename(columns={\n",
    "    'world_rank': 'dunya_siralamasi',\n",
    "    'university_name': 'universite',\n",
    "    'country': 'ulke',\n",
    "    'teaching': 'ogretim',\n",
    "    'international': 'uluslararasi_etki',\n",
    "    'research': 'arastirma',\n",
    "    'citations': 'alinti',\n",
    "    'income': 'gelir',\n",
    "    'total_score': 'toplam_puan',\n",
    "    'num_students': 'ogrenci_sayisi',\n",
    "    'student_staff_ratio': 'ogrenci_personel_orani',\n",
    "    'international_students': 'uluslararasi_ogrenci',\n",
    "    'female_male_ratio': 'kadin_erkek_orani',\n",
    "    'year': 'yil'\n",
    "}, inplace=True)\n",
    "\n",
    "# İlk 100 veriyi alalım\n",
    "df = veri.iloc[:100]\n",
    "\n",
    "\n",
    "\n",
    "\n"
   ]
  },
  {
   "cell_type": "code",
   "execution_count": 6,
   "id": "ed7f11d5",
   "metadata": {},
   "outputs": [
    {
     "data": {
      "text/plain": [
       "'universite_siralama_cizgi.html'"
      ]
     },
     "execution_count": 6,
     "metadata": {},
     "output_type": "execute_result"
    }
   ],
   "source": [
    "# Çizgi ve nokta grafiği (Line + Scatter)\n",
    "cizgi1 = go.Scatter(\n",
    "    x=df.dunya_siralamasi,\n",
    "    y=df.alinti,\n",
    "    mode=\"lines+markers\",\n",
    "    name=\"Alıntı\",\n",
    "    marker=dict(color=\"rgba(50,243,99,1)\"),\n",
    "    text=df.universite\n",
    ")\n",
    "\n",
    "cizgi2 = go.Scatter(\n",
    "    x=df.dunya_siralamasi,\n",
    "    y=df.ogretim,\n",
    "    mode=\"lines+markers\",\n",
    "    name=\"Öğretim\",\n",
    "    marker=dict(color=\"rgba(254,0,0,1)\"),\n",
    "    text=df.universite\n",
    ")\n",
    "\n",
    "grafik_verisi = [cizgi1, cizgi2]\n",
    "\n",
    "yerlesim = go.Layout(title=\"İlk 100 Üniversitenin Alıntı ve Öğretim Puanları\",\n",
    "                      xaxis=dict(title=\"Dünya Sıralaması\"),\n",
    "                      yaxis=dict(title=\"Puan\"))\n",
    "\n",
    "fig = go.Figure(data=grafik_verisi, layout=yerlesim)\n",
    "plot(fig, filename=\"universite_siralama_cizgi.html\")\n"
   ]
  },
  {
   "cell_type": "code",
   "execution_count": 7,
   "id": "713e145d",
   "metadata": {},
   "outputs": [
    {
     "data": {
      "text/plain": [
       "'universite_bar_2014.html'"
      ]
     },
     "execution_count": 7,
     "metadata": {},
     "output_type": "execute_result"
    }
   ],
   "source": [
    "# Bar Grafiği - 2014 Yılı İlk 5 Üniversite\n",
    "veri2014 = veri[veri.yil == 2014].iloc[:5]\n",
    "\n",
    "bar1 = go.Bar(\n",
    "    x=veri2014.universite,\n",
    "    y=veri2014.alinti,\n",
    "    name=\"Alıntı\",\n",
    "    marker=dict(color=\"rgba(255, 127, 39, 0.5)\"),\n",
    "    text=veri2014.ulke\n",
    ")\n",
    "\n",
    "bar2 = go.Bar(\n",
    "    x=veri2014.universite,\n",
    "    y=veri2014.ogretim,\n",
    "    name=\"Öğretim\",\n",
    "    marker=dict(color=\"rgba(64, 127, 128, 0.5)\"),\n",
    "    text=veri2014.ulke\n",
    ")\n",
    "\n",
    "bar_veri = [bar1, bar2]\n",
    "yerlesim = go.Layout(barmode=\"group\", title=\"2014 Yılı İlk 5 Üniversite Öğretim ve Alıntı Puanları\")\n",
    "fig = go.Figure(data=bar_veri, layout=yerlesim)\n",
    "plot(fig, filename=\"universite_bar_2014.html\")\n"
   ]
  },
  {
   "cell_type": "code",
   "execution_count": 8,
   "id": "13d149b1",
   "metadata": {},
   "outputs": [
    {
     "data": {
      "text/plain": [
       "'universite_pie_ogrenci_2016.html'"
      ]
     },
     "execution_count": 8,
     "metadata": {},
     "output_type": "execute_result"
    }
   ],
   "source": [
    "# Pasta Grafiği - 2016 Yılı Öğrenci Sayısı\n",
    "veri2016 = veri[veri.yil == 2016].iloc[:8]\n",
    "dilimler = [float(i.replace(\",\", \"\")) for i in veri2016.ogrenci_sayisi]\n",
    "\n",
    "pie = go.Pie(\n",
    "    labels=veri2016.universite,\n",
    "    values=dilimler,\n",
    "    hoverinfo=\"label+value+percent\",\n",
    "    textinfo=\"value+percent\",\n",
    "    hole=0.3\n",
    ")\n",
    "\n",
    "grafik_veri = [pie]\n",
    "yerlesim = go.Layout(title=\"2016 Yılı İlk 8 Üniversitenin Öğrenci Sayıları\")\n",
    "fig = go.Figure(data=grafik_veri, layout=yerlesim)\n",
    "plot(fig, filename=\"universite_pie_ogrenci_2016.html\")"
   ]
  }
 ],
 "metadata": {
  "kernelspec": {
   "display_name": "myenv",
   "language": "python",
   "name": "python3"
  },
  "language_info": {
   "codemirror_mode": {
    "name": "ipython",
    "version": 3
   },
   "file_extension": ".py",
   "mimetype": "text/x-python",
   "name": "python",
   "nbconvert_exporter": "python",
   "pygments_lexer": "ipython3",
   "version": "3.13.1"
  }
 },
 "nbformat": 4,
 "nbformat_minor": 5
}
