{
  "nbformat": 4,
  "nbformat_minor": 0,
  "metadata": {
    "colab": {
      "provenance": []
    },
    "kernelspec": {
      "name": "python3",
      "display_name": "Python 3"
    },
    "language_info": {
      "name": "python"
    }
  },
  "cells": [
    {
      "cell_type": "markdown",
      "source": [
        "**Veri Tipleri : Liste**"
      ],
      "metadata": {
        "id": "zw9FTel8_4A7"
      }
    },
    {
      "cell_type": "code",
      "execution_count": 1,
      "metadata": {
        "colab": {
          "base_uri": "https://localhost:8080/"
        },
        "id": "ydIbuDFW-dEK",
        "outputId": "8e438cd3-31ab-45f1-e9ce-2616bcd7999f"
      },
      "outputs": [
        {
          "output_type": "execute_result",
          "data": {
            "text/plain": [
              "['sut', 'yumurta', 'ekmek']"
            ]
          },
          "metadata": {},
          "execution_count": 1
        }
      ],
      "source": [
        "list = [\"sut\", \"yumurta\", \"ekmek\"]\n",
        "list"
      ]
    },
    {
      "cell_type": "code",
      "source": [
        "list_fiyat = [10, 20, 30]\n",
        "print(list_fiyat)"
      ],
      "metadata": {
        "colab": {
          "base_uri": "https://localhost:8080/"
        },
        "id": "bQiFNR-kAFAG",
        "outputId": "14414552-343d-4ef6-80ab-119c9324e07c"
      },
      "execution_count": 2,
      "outputs": [
        {
          "output_type": "stream",
          "name": "stdout",
          "text": [
            "[10, 20, 30]\n"
          ]
        }
      ]
    },
    {
      "cell_type": "code",
      "source": [
        "type(list_fiyat)"
      ],
      "metadata": {
        "colab": {
          "base_uri": "https://localhost:8080/"
        },
        "id": "l_PKioFzAQFC",
        "outputId": "50d233e7-7609-4837-eadb-b3624b6a41ec"
      },
      "execution_count": 3,
      "outputs": [
        {
          "output_type": "execute_result",
          "data": {
            "text/plain": [
              "list"
            ]
          },
          "metadata": {},
          "execution_count": 3
        }
      ]
    },
    {
      "cell_type": "code",
      "source": [
        "hafta_list = [\"pazartesi\", \"sali\", \"carsamba\", \"persembe\", \"cuma\", \"cumartesi\", \"pazar\"]\n",
        "print(hafta_list)"
      ],
      "metadata": {
        "colab": {
          "base_uri": "https://localhost:8080/"
        },
        "id": "8v-BKP3hAW6_",
        "outputId": "b4033351-e74b-4ee6-a5b6-f3903df6ab27"
      },
      "execution_count": 4,
      "outputs": [
        {
          "output_type": "stream",
          "name": "stdout",
          "text": [
            "['pazartesi', 'sali', 'carsamba', 'persembe', 'cuma', 'cumartesi', 'pazar']\n"
          ]
        }
      ]
    },
    {
      "cell_type": "code",
      "source": [
        "# indexleme\n",
        "hafta_list[0]\n",
        "hafta_list[len(hafta_list) -1]"
      ],
      "metadata": {
        "colab": {
          "base_uri": "https://localhost:8080/",
          "height": 35
        },
        "id": "ING3Scr_AzIB",
        "outputId": "d1b0a70c-8bff-4cdf-a0e0-74b4a85f1bbc"
      },
      "execution_count": 9,
      "outputs": [
        {
          "output_type": "execute_result",
          "data": {
            "text/plain": [
              "'pazar'"
            ],
            "application/vnd.google.colaboratory.intrinsic+json": {
              "type": "string"
            }
          },
          "metadata": {},
          "execution_count": 9
        }
      ]
    },
    {
      "cell_type": "code",
      "source": [
        "hafta_list[-1]"
      ],
      "metadata": {
        "colab": {
          "base_uri": "https://localhost:8080/",
          "height": 35
        },
        "id": "BrXfRLB7Bsiy",
        "outputId": "b9d17dc4-2455-4d08-cdcc-4abaa51b111a"
      },
      "execution_count": 10,
      "outputs": [
        {
          "output_type": "execute_result",
          "data": {
            "text/plain": [
              "'pazar'"
            ],
            "application/vnd.google.colaboratory.intrinsic+json": {
              "type": "string"
            }
          },
          "metadata": {},
          "execution_count": 10
        }
      ]
    },
    {
      "cell_type": "code",
      "source": [
        "hafta_list[0:3] #listeler için => ilk yazdığımız index dahil, son yazdığımız index dahil değil."
      ],
      "metadata": {
        "colab": {
          "base_uri": "https://localhost:8080/"
        },
        "id": "1eaj6Ca8B_En",
        "outputId": "cc656893-704e-444d-d6d8-be7cb556f994"
      },
      "execution_count": 11,
      "outputs": [
        {
          "output_type": "execute_result",
          "data": {
            "text/plain": [
              "['pazartesi', 'sali', 'carsamba']"
            ]
          },
          "metadata": {},
          "execution_count": 11
        }
      ]
    },
    {
      "cell_type": "code",
      "source": [
        "print(hafta_list[:3])\n",
        "\n",
        "print(hafta_list[3:])"
      ],
      "metadata": {
        "colab": {
          "base_uri": "https://localhost:8080/"
        },
        "id": "Q1Ui9L1MCe66",
        "outputId": "de076b54-94af-4294-e336-6121477481f8"
      },
      "execution_count": 15,
      "outputs": [
        {
          "output_type": "stream",
          "name": "stdout",
          "text": [
            "['pazartesi', 'sali', 'carsamba']\n",
            "['persembe', 'cuma', 'cumartesi', 'pazar']\n"
          ]
        }
      ]
    },
    {
      "cell_type": "code",
      "source": [
        "# sayı listeleri\n",
        "sayı_list = [1, 2, 3, 4, 6, 5]\n",
        "print(sayı_list)"
      ],
      "metadata": {
        "colab": {
          "base_uri": "https://localhost:8080/"
        },
        "id": "uvKEPxcUEHGE",
        "outputId": "449bb853-f8cb-4e0f-9dfb-3a000381ec6a"
      },
      "execution_count": 21,
      "outputs": [
        {
          "output_type": "stream",
          "name": "stdout",
          "text": [
            "[1, 2, 3, 4, 6, 5]\n"
          ]
        }
      ]
    },
    {
      "cell_type": "code",
      "source": [
        "# listeye eleman ekleme\n",
        "sayı_list.append(6)\n",
        "print(sayı_list)"
      ],
      "metadata": {
        "colab": {
          "base_uri": "https://localhost:8080/"
        },
        "id": "Ad6XJahdEKgX",
        "outputId": "22d2119e-5bf8-4fb6-b5c1-416b9e551f60"
      },
      "execution_count": 23,
      "outputs": [
        {
          "output_type": "stream",
          "name": "stdout",
          "text": [
            "[1, 2, 3, 4, 6, 5, 7, 6]\n"
          ]
        }
      ]
    },
    {
      "cell_type": "code",
      "source": [
        "sayı_list.remove(6) # verdiğimiz sayıdan birden fazla varsa, ilk gördüğü sayıyı çıkartır.\n",
        "print(sayı_list)"
      ],
      "metadata": {
        "colab": {
          "base_uri": "https://localhost:8080/"
        },
        "id": "zZiycDFMEi85",
        "outputId": "3883b146-ec8f-4c52-e820-69098863fd06"
      },
      "execution_count": 25,
      "outputs": [
        {
          "output_type": "stream",
          "name": "stdout",
          "text": [
            "[1, 2, 3, 4, 5, 7]\n"
          ]
        }
      ]
    },
    {
      "cell_type": "code",
      "source": [
        "# listeyi ters çevirme\n",
        "sayı_list.reverse()\n",
        "print(sayı_list)"
      ],
      "metadata": {
        "colab": {
          "base_uri": "https://localhost:8080/"
        },
        "id": "o9ID6YplFAUD",
        "outputId": "c5e137ca-6a8a-4ce8-842b-2a23c71effb0"
      },
      "execution_count": 26,
      "outputs": [
        {
          "output_type": "stream",
          "name": "stdout",
          "text": [
            "[7, 5, 4, 3, 2, 1]\n"
          ]
        }
      ]
    },
    {
      "cell_type": "code",
      "source": [
        "# küçükten büyüğe sıralama\n",
        "sayı_list.sort()\n",
        "print(sayı_list)"
      ],
      "metadata": {
        "colab": {
          "base_uri": "https://localhost:8080/"
        },
        "id": "QzQWheqsFFK-",
        "outputId": "c8c2979a-d21e-4d3f-ae00-b43136282ed9"
      },
      "execution_count": 27,
      "outputs": [
        {
          "output_type": "stream",
          "name": "stdout",
          "text": [
            "[1, 2, 3, 4, 5, 7]\n"
          ]
        }
      ]
    },
    {
      "cell_type": "markdown",
      "source": [
        "**Veri Tipleri : Tuple**"
      ],
      "metadata": {
        "id": "Pv-jtD8PFog5"
      }
    },
    {
      "cell_type": "code",
      "source": [
        "# sadece erişim sağlayabiliriz, değiştiremeyiz.\n",
        "tuple_sayi = (1, 2, 3, 4, 5)\n",
        "print(tuple_sayi[-2])\n",
        "print(tuple_sayi.count(2)) # tuple içinde bulunan istediğimiz elemanı saydırabiliriz."
      ],
      "metadata": {
        "colab": {
          "base_uri": "https://localhost:8080/"
        },
        "id": "qNVx611eFp6l",
        "outputId": "c36f745b-61b7-4227-81e9-d4836b39818e"
      },
      "execution_count": 31,
      "outputs": [
        {
          "output_type": "stream",
          "name": "stdout",
          "text": [
            "4\n",
            "1\n"
          ]
        }
      ]
    },
    {
      "cell_type": "markdown",
      "source": [
        "**Veri Tipleri : Dictionary**"
      ],
      "metadata": {
        "id": "mmaTmgwzHdvq"
      }
    },
    {
      "cell_type": "code",
      "source": [],
      "metadata": {
        "id": "KBdNSW1SHkLk"
      },
      "execution_count": null,
      "outputs": []
    }
  ]
}