{
 "cells": [
  {
   "cell_type": "code",
   "execution_count": null,
   "metadata": {},
   "outputs": [],
   "source": [
    "import pandas as pd\n",
    "import matplotlib.pyplot as plt\n",
    "import seaborn as sns\n",
    "\n",
    "# Veriyi oku\n",
    "veri = pd.read_csv(\"olimpiyatlar_temizlenmis.csv\")\n",
    "\n",
    "# %% Scatter Plot (Dağılım Grafiği)\n",
    "# Farklı tema stilleri ile boy-kilo ilişkisini görselleştiriyoruz.\n",
    "sns.set_style(\"white\")  # Beyaz tema\n",
    "plt.figure()\n",
    "sns.scatterplot(x=\"boy\", y=\"kilo\", data=veri)\n",
    "plt.title(\"Boy vs Kilo (Beyaz Tema)\")\n",
    "\n",
    "sns.set_style(\"darkgrid\")  # Koyu ızgara tema\n",
    "plt.figure()\n",
    "sns.scatterplot(x=\"boy\", y=\"kilo\", data=veri)\n",
    "plt.title(\"Boy vs Kilo (Koyu Izgara Tema)\")\n",
    "\n",
    "sns.set_style(\"whitegrid\")  # Beyaz ızgara tema\n",
    "plt.figure()\n",
    "sns.scatterplot(x=\"boy\", y=\"kilo\", data=veri)\n",
    "plt.title(\"Boy vs Kilo (Beyaz Izgara Tema)\")\n",
    "\n",
    "# Cinsiyete göre renkli boy-kilo grafiği\n",
    "plt.figure()\n",
    "sns.scatterplot(x=\"boy\", y=\"kilo\", data=veri, hue=\"cinsiyet\")\n",
    "plt.title(\"Boy ve Kilo - Cinsiyet Dağılımı\")\n",
    "\n",
    "# Boy ve kilo arasındaki doğrusal ilişkiyi çizimle göster\n",
    "plt.figure()\n",
    "sns.regplot(x=\"boy\", y=\"kilo\", data=veri, marker=\"+\", scatter_kws={\"alpha\": 0.2})\n",
    "plt.title(\"Boy ve Kilo - Doğrusal Regresyon\")\n",
    "\n",
    "# Madalya kategorisine göre renkli boy-kilo grafiği\n",
    "plt.figure()\n",
    "sns.scatterplot(x=\"boy\", y=\"kilo\", data=veri, hue=\"madalya\", palette=\"Blues\")\n",
    "plt.title(\"Boy ve Kilo - Madalya Kategorisi\")\n",
    "\n",
    "# Sezona göre boy ve kilo dağılımı\n",
    "plt.figure()\n",
    "sns.scatterplot(x='boy', y='kilo', data=veri, hue=\"sezon\", palette=\"Accent\")\n",
    "plt.title('Boy ve Kilo Dağılımı - Sezon Kategorisi')\n"
   ]
  }
 ],
 "metadata": {
  "kernelspec": {
   "display_name": "Python 3",
   "language": "python",
   "name": "python3"
  },
  "language_info": {
   "codemirror_mode": {
    "name": "ipython",
    "version": 3
   },
   "file_extension": ".py",
   "mimetype": "text/x-python",
   "name": "python",
   "nbconvert_exporter": "python",
   "pygments_lexer": "ipython3",
   "version": "3.9.6"
  }
 },
 "nbformat": 4,
 "nbformat_minor": 2
}
